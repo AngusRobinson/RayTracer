{
 "cells": [
  {
   "cell_type": "code",
   "execution_count": 22,
   "metadata": {},
   "outputs": [
    {
     "name": "stdout",
     "output_type": "stream",
     "text": [
      "The autoreload extension is already loaded. To reload it, use:\n",
      "  %reload_ext autoreload\n"
     ]
    }
   ],
   "source": [
    "%load_ext autoreload\n",
    "%autoreload 2\n",
    "import numpy as np\n",
    "\n",
    "\n"
   ]
  },
  {
   "cell_type": "code",
   "execution_count": 55,
   "metadata": {},
   "outputs": [
    {
     "data": {
      "image/png": "[encoded data removed]",
      "text/plain": [
       "<IPython.core.display.Image object>"
      ]
     },
     "metadata": {},
     "output_type": "display_data"
    }
   ],
   "source": [
    "from main import *\n",
    "\n",
    "camera_pos = np.array([0,0,-0.5])\n",
    "\n",
    "    \n",
    "ball = Sphere([0,0,20],5,[255,0,0])\n",
    "ball2 = Sphere([-3,-5,10],4,[0,255,0])\n",
    "shapes = [ball, ball2]\n",
    "z = np.zeros((100,100,3))\n",
    "hi,wi,_ = z.shape\n",
    "for i in range(hi):\n",
    "    for j in range(wi):\n",
    "        sx = (j / wi ) * 2 - 1\n",
    "        sy = - ((i / hi) * 2 - 1)\n",
    "        screen_pos = np.array([sx, sy, 0])\n",
    "    \n",
    "        v = (screen_pos - camera_pos)\n",
    "        v = v / np.linalg.norm(v)\n",
    "        z[i,j] = raytrace(v, shapes)\n",
    "            \n",
    "draw(z)\n",
    "\n",
    "    "
   ]
  },
  {
   "cell_type": "code",
   "execution_count": null,
   "metadata": {},
   "outputs": [],
   "source": []
  },
  {
   "cell_type": "code",
   "execution_count": 38,
   "metadata": {},
   "outputs": [
    {
     "data": {
      "text/plain": [
       "1.4142135623730951"
      ]
     },
     "execution_count": 38,
     "metadata": {},
     "output_type": "execute_result"
    }
   ],
   "source": [
    "np.linalg.norm([1,1,0])"
   ]
  }
 ],
 "metadata": {
  "kernelspec": {
   "display_name": "Python 3",
   "language": "python",
   "name": "python3"
  },
  "language_info": {
   "codemirror_mode": {
    "name": "ipython",
    "version": 3
   },
   "file_extension": ".py",
   "mimetype": "text/x-python",
   "name": "python",
   "nbconvert_exporter": "python",
   "pygments_lexer": "ipython3",
   "version": "3.8.18"
  }
 },
 "nbformat": 4,
 "nbformat_minor": 2
}
